{
 "cells": [
  {
   "cell_type": "code",
   "execution_count": 266,
   "metadata": {},
   "outputs": [
    {
     "data": {
      "text/plain": [
       "2578725"
      ]
     },
     "execution_count": 266,
     "metadata": {},
     "output_type": "execute_result"
    }
   ],
   "source": [
    "import pandas as pd\n",
    "import numpy as np\n",
    "zaradf=pd.read_csv('/Users/Dirty_data.csv', sep=',', header=0)\n",
    "len(zaradf)"
   ]
  },
  {
   "cell_type": "code",
   "execution_count": 267,
   "metadata": {},
   "outputs": [
    {
     "data": {
      "text/plain": [
       "1522404"
      ]
     },
     "execution_count": 267,
     "metadata": {},
     "output_type": "execute_result"
    }
   ],
   "source": [
    "#first clean, no NAN numbers and no numbers in searches\n",
    "zaradf.dropna(axis=0, how='any', inplace=True)\n",
    "zaradf=zaradf[~zaradf[zaradf.columns[0]].str.contains('\\d')]\n",
    "zaradf=zaradf[~zaradf[zaradf.columns[1]].str.contains('\\d')]\n",
    "len(zaradf)"
   ]
  },
  {
   "cell_type": "code",
   "execution_count": 268,
   "metadata": {},
   "outputs": [],
   "source": [
    "fsearch=zaradf['fsearch'].tolist()\n",
    "ssearch=zaradf['ssearch'].tolist()"
   ]
  },
  {
   "cell_type": "code",
   "execution_count": 269,
   "metadata": {},
   "outputs": [],
   "source": [
    "import re\n",
    "fsearch=[re.sub(r\"[^a-zA-Z ]\",\"\",elem) for elem in fsearch] #remove chinese characters\n",
    "ssearch=[re.sub(r\"[^a-zA-Z ]\",\"\",elem) for elem in ssearch] #remove chinese characters"
   ]
  },
  {
   "cell_type": "code",
   "execution_count": 270,
   "metadata": {},
   "outputs": [],
   "source": [
    "from enchant.checker import SpellChecker\n",
    "#correct spelling mistakes\n",
    "newfsearch=[]\n",
    "for i in fsearch:\n",
    "    chkr=SpellChecker('en_US',i)\n",
    "    for err in chkr:\n",
    "        err.replace('')\n",
    "    newfsearch.append(chkr.get_text())"
   ]
  },
  {
   "cell_type": "code",
   "execution_count": null,
   "metadata": {},
   "outputs": [],
   "source": []
  },
  {
   "cell_type": "code",
   "execution_count": 271,
   "metadata": {},
   "outputs": [],
   "source": [
    "newssearch=[]\n",
    "for i in ssearch:\n",
    "    chkr=SpellChecker('en_US',i)\n",
    "    for err in chkr:\n",
    "        err.replace('') #or replace with ('') if dont want to see amount of errors\n",
    "    newssearch.append(chkr.get_text())"
   ]
  },
  {
   "cell_type": "code",
   "execution_count": 292,
   "metadata": {},
   "outputs": [],
   "source": [
    "zaradf['fsearch']=newfsearch\n",
    "zaradf['ssearch']=newssearch"
   ]
  },
  {
   "cell_type": "code",
   "execution_count": 263,
   "metadata": {},
   "outputs": [],
   "source": [
    "#spam=['SPAM'] #getting rid of all errors\n",
    "#zaradf['fsearch']=zaradf['fsearch'].apply(lambda x:[j for j in x if j not in spam])"
   ]
  },
  {
   "cell_type": "code",
   "execution_count": 264,
   "metadata": {},
   "outputs": [],
   "source": [
    "#zaradf['ssearch']=zaradf['ssearch'].apply(lambda x:[j for j in x if j not in spam])"
   ]
  },
  {
   "cell_type": "code",
   "execution_count": 274,
   "metadata": {},
   "outputs": [],
   "source": [
    "#zaradf.to_csv('zaracleansearches.csv')"
   ]
  },
  {
   "cell_type": "code",
   "execution_count": 294,
   "metadata": {},
   "outputs": [],
   "source": [
    "fsearch=zaradf['fsearch']\n",
    "ssearch=zaradf['ssearch']"
   ]
  },
  {
   "cell_type": "code",
   "execution_count": 296,
   "metadata": {},
   "outputs": [],
   "source": [
    "no_s_search=[] #removing short words\n",
    "for i in fsearch:\n",
    "    s=i.split()\n",
    "    ns=[j for j in s if len(j)>2]\n",
    "    no_s_search.append(ns)\n",
    "no_s_search1=[]\n",
    "for i in ssearch:\n",
    "    s=i.split()\n",
    "    ns=[j for j in s if len(j)>2]\n",
    "    no_s_search1.append(ns)"
   ]
  },
  {
   "cell_type": "code",
   "execution_count": null,
   "metadata": {},
   "outputs": [],
   "source": []
  },
  {
   "cell_type": "code",
   "execution_count": 135,
   "metadata": {},
   "outputs": [],
   "source": []
  },
  {
   "cell_type": "code",
   "execution_count": 144,
   "metadata": {},
   "outputs": [],
   "source": []
  },
  {
   "cell_type": "code",
   "execution_count": 146,
   "metadata": {},
   "outputs": [],
   "source": []
  },
  {
   "cell_type": "code",
   "execution_count": 299,
   "metadata": {},
   "outputs": [],
   "source": [
    "words=[None]*(len(no_s_search)+len(no_s_search1))\n",
    "words[::2]=no_s_search\n",
    "words[1::2]=no_s_search1"
   ]
  },
  {
   "cell_type": "code",
   "execution_count": null,
   "metadata": {},
   "outputs": [],
   "source": []
  },
  {
   "cell_type": "code",
   "execution_count": 300,
   "metadata": {},
   "outputs": [],
   "source": [
    "from gensim.models import Word2Vec, FastText"
   ]
  },
  {
   "cell_type": "code",
   "execution_count": 301,
   "metadata": {},
   "outputs": [],
   "source": [
    "zaraword=Word2Vec(sentences=words, size=100, window=5, min_count=20, workers=4, sg=0)"
   ]
  },
  {
   "cell_type": "code",
   "execution_count": 302,
   "metadata": {},
   "outputs": [
    {
     "data": {
      "text/plain": [
       "[('sandal', 0.9023554921150208),\n",
       " ('slides', 0.7894513607025146),\n",
       " ('mules', 0.7716534733772278),\n",
       " ('espadrilles', 0.7453910112380981),\n",
       " ('brogues', 0.7142713069915771),\n",
       " ('slippers', 0.6958970427513123),\n",
       " ('wedges', 0.689113974571228),\n",
       " ('pumps', 0.68100506067276),\n",
       " ('booties', 0.6792714595794678),\n",
       " ('loafer', 0.6638583540916443)]"
      ]
     },
     "execution_count": 302,
     "metadata": {},
     "output_type": "execute_result"
    }
   ],
   "source": [
    "zaraword.wv.most_similar('sandals')"
   ]
  },
  {
   "cell_type": "code",
   "execution_count": 306,
   "metadata": {},
   "outputs": [
    {
     "data": {
      "text/plain": [
       "[('suede', 0.6183833479881287),\n",
       " ('lather', 0.5827239751815796),\n",
       " ('sued', 0.5689871311187744),\n",
       " ('lea', 0.5632415413856506),\n",
       " ('letter', 0.5281834602355957),\n",
       " ('leader', 0.5277124047279358),\n",
       " ('swede', 0.5115770101547241),\n",
       " ('motorcycle', 0.5056771039962769),\n",
       " ('vinyl', 0.499094158411026),\n",
       " ('leathers', 0.4976913332939148)]"
      ]
     },
     "execution_count": 306,
     "metadata": {},
     "output_type": "execute_result"
    }
   ],
   "source": [
    "zaraword.wv.most_similar('leather')"
   ]
  },
  {
   "cell_type": "code",
   "execution_count": 307,
   "metadata": {},
   "outputs": [
    {
     "data": {
      "text/plain": [
       "[('chambray', 0.4419208765029907),\n",
       " ('whit', 0.4034034311771393),\n",
       " ('boxy', 0.40006810426712036),\n",
       " ('peach', 0.3979521095752716),\n",
       " ('matching', 0.3930286169052124),\n",
       " ('stripped', 0.37826478481292725),\n",
       " ('bowed', 0.37809664011001587),\n",
       " ('embroideries', 0.3730969727039337),\n",
       " ('yellow', 0.3672889769077301),\n",
       " ('flowery', 0.3656834363937378)]"
      ]
     },
     "execution_count": 307,
     "metadata": {},
     "output_type": "execute_result"
    }
   ],
   "source": [
    "zaraword.wv.most_similar('white')"
   ]
  },
  {
   "cell_type": "code",
   "execution_count": 308,
   "metadata": {},
   "outputs": [
    {
     "data": {
      "text/plain": [
       "[('blur', 0.58910071849823),\n",
       " ('wight', 0.48321688175201416),\n",
       " ('gray', 0.48291781544685364),\n",
       " ('burgundy', 0.4546627998352051),\n",
       " ('pink', 0.4489276707172394),\n",
       " ('khaki', 0.4417630732059479),\n",
       " ('brown', 0.43869343400001526),\n",
       " ('weight', 0.4271523058414459),\n",
       " ('maroon', 0.41955748200416565),\n",
       " ('sand', 0.41783174872398376)]"
      ]
     },
     "execution_count": 308,
     "metadata": {},
     "output_type": "execute_result"
    }
   ],
   "source": [
    "zaraword.wv.most_similar('blue')"
   ]
  },
  {
   "cell_type": "code",
   "execution_count": 315,
   "metadata": {},
   "outputs": [
    {
     "data": {
      "text/plain": [
       "[('orange', 0.6979491710662842),\n",
       " ('mustard', 0.6188421249389648),\n",
       " ('red', 0.6010364294052124),\n",
       " ('purple', 0.566786527633667),\n",
       " ('cream', 0.563938319683075),\n",
       " ('beige', 0.5120465159416199),\n",
       " ('ecru', 0.4983665347099304),\n",
       " ('peach', 0.4904232919216156),\n",
       " ('green', 0.4792928993701935),\n",
       " ('pink', 0.47561153769493103)]"
      ]
     },
     "execution_count": 315,
     "metadata": {},
     "output_type": "execute_result"
    }
   ],
   "source": [
    "zaraword.wv.most_similar('yellow')"
   ]
  },
  {
   "cell_type": "code",
   "execution_count": 330,
   "metadata": {},
   "outputs": [
    {
     "data": {
      "text/plain": [
       "[('plastic', 0.5913524627685547),\n",
       " ('fishtail', 0.5630216002464294),\n",
       " ('glittery', 0.5578889846801758),\n",
       " ('clear', 0.5463901162147522),\n",
       " ('tapestry', 0.5379107594490051),\n",
       " ('clack', 0.5299345850944519),\n",
       " ('bronze', 0.5297718048095703),\n",
       " ('hassle', 0.5289148688316345),\n",
       " ('gild', 0.526526153087616),\n",
       " ('sparkling', 0.5264226794242859)]"
      ]
     },
     "execution_count": 330,
     "metadata": {},
     "output_type": "execute_result"
    }
   ],
   "source": [
    "zaraword.wv.most_similar('transparent')"
   ]
  },
  {
   "cell_type": "code",
   "execution_count": 345,
   "metadata": {},
   "outputs": [
    {
     "data": {
      "text/html": [
       "<div>\n",
       "<style>\n",
       "    .dataframe thead tr:only-child th {\n",
       "        text-align: right;\n",
       "    }\n",
       "\n",
       "    .dataframe thead th {\n",
       "        text-align: left;\n",
       "    }\n",
       "\n",
       "    .dataframe tbody tr th {\n",
       "        vertical-align: top;\n",
       "    }\n",
       "</style>\n",
       "<table border=\"1\" class=\"dataframe\">\n",
       "  <thead>\n",
       "    <tr style=\"text-align: right;\">\n",
       "      <th></th>\n",
       "      <th>fsearch</th>\n",
       "      <th>ssearch</th>\n",
       "      <th>user</th>\n",
       "      <th>session</th>\n",
       "    </tr>\n",
       "    <tr>\n",
       "      <th>pnum</th>\n",
       "      <th></th>\n",
       "      <th></th>\n",
       "      <th></th>\n",
       "      <th></th>\n",
       "    </tr>\n",
       "  </thead>\n",
       "  <tbody>\n",
       "    <tr>\n",
       "      <th>4365001.0</th>\n",
       "      <td>white slim fit t h</td>\n",
       "      <td>white slim fit t shirt</td>\n",
       "      <td>1</td>\n",
       "      <td>1</td>\n",
       "    </tr>\n",
       "    <tr>\n",
       "      <th>4116043.0</th>\n",
       "      <td>embroidered dress cream</td>\n",
       "      <td>embroidered dress</td>\n",
       "      <td>1</td>\n",
       "      <td>1</td>\n",
       "    </tr>\n",
       "    <tr>\n",
       "      <th>4471556.0</th>\n",
       "      <td>white top</td>\n",
       "      <td>white top</td>\n",
       "      <td>1</td>\n",
       "      <td>1</td>\n",
       "    </tr>\n",
       "    <tr>\n",
       "      <th>4380532.0</th>\n",
       "      <td>white top</td>\n",
       "      <td>white top</td>\n",
       "      <td>1</td>\n",
       "      <td>1</td>\n",
       "    </tr>\n",
       "    <tr>\n",
       "      <th>4238059.0</th>\n",
       "      <td>white top</td>\n",
       "      <td>white top</td>\n",
       "      <td>1</td>\n",
       "      <td>1</td>\n",
       "    </tr>\n",
       "    <tr>\n",
       "      <th>4434070.0</th>\n",
       "      <td>white top</td>\n",
       "      <td>white top</td>\n",
       "      <td>1</td>\n",
       "      <td>1</td>\n",
       "    </tr>\n",
       "    <tr>\n",
       "      <th>4281106.0</th>\n",
       "      <td>white top</td>\n",
       "      <td>white</td>\n",
       "      <td>1</td>\n",
       "      <td>1</td>\n",
       "    </tr>\n",
       "    <tr>\n",
       "      <th>4486036.0</th>\n",
       "      <td>white top</td>\n",
       "      <td>white</td>\n",
       "      <td>1</td>\n",
       "      <td>1</td>\n",
       "    </tr>\n",
       "    <tr>\n",
       "      <th>4371025.0</th>\n",
       "      <td></td>\n",
       "      <td></td>\n",
       "      <td>1</td>\n",
       "      <td>1</td>\n",
       "    </tr>\n",
       "    <tr>\n",
       "      <th>4565034.0</th>\n",
       "      <td></td>\n",
       "      <td>elastic</td>\n",
       "      <td>1</td>\n",
       "      <td>1</td>\n",
       "    </tr>\n",
       "    <tr>\n",
       "      <th>4514501.0</th>\n",
       "      <td></td>\n",
       "      <td></td>\n",
       "      <td>1</td>\n",
       "      <td>1</td>\n",
       "    </tr>\n",
       "    <tr>\n",
       "      <th>4412524.0</th>\n",
       "      <td>white skirt</td>\n",
       "      <td>white skirt</td>\n",
       "      <td>1</td>\n",
       "      <td>1</td>\n",
       "    </tr>\n",
       "    <tr>\n",
       "      <th>4482539.0</th>\n",
       "      <td>white tweed</td>\n",
       "      <td>white jacket</td>\n",
       "      <td>1</td>\n",
       "      <td>1</td>\n",
       "    </tr>\n",
       "    <tr>\n",
       "      <th>4181510.0</th>\n",
       "      <td>men shoes</td>\n",
       "      <td>men shoes</td>\n",
       "      <td>1</td>\n",
       "      <td>1</td>\n",
       "    </tr>\n",
       "    <tr>\n",
       "      <th>4181009.0</th>\n",
       "      <td>men shoes</td>\n",
       "      <td>men shoes</td>\n",
       "      <td>1</td>\n",
       "      <td>1</td>\n",
       "    </tr>\n",
       "    <tr>\n",
       "      <th>4594505.0</th>\n",
       "      <td>womens white shirts low to high</td>\n",
       "      <td>womens white tops</td>\n",
       "      <td>1</td>\n",
       "      <td>1</td>\n",
       "    </tr>\n",
       "    <tr>\n",
       "      <th>4523002.0</th>\n",
       "      <td>sales</td>\n",
       "      <td>sale</td>\n",
       "      <td>1</td>\n",
       "      <td>1</td>\n",
       "    </tr>\n",
       "    <tr>\n",
       "      <th>4181515.0</th>\n",
       "      <td>sales</td>\n",
       "      <td>sale</td>\n",
       "      <td>1</td>\n",
       "      <td>1</td>\n",
       "    </tr>\n",
       "    <tr>\n",
       "      <th>4335588.0</th>\n",
       "      <td>winter jackets</td>\n",
       "      <td>scarf</td>\n",
       "      <td>1</td>\n",
       "      <td>1</td>\n",
       "    </tr>\n",
       "    <tr>\n",
       "      <th>4212537.0</th>\n",
       "      <td>winter jackets</td>\n",
       "      <td>scarf</td>\n",
       "      <td>1</td>\n",
       "      <td>1</td>\n",
       "    </tr>\n",
       "    <tr>\n",
       "      <th>4255552.0</th>\n",
       "      <td>winter jackets</td>\n",
       "      <td>scarf</td>\n",
       "      <td>1</td>\n",
       "      <td>1</td>\n",
       "    </tr>\n",
       "    <tr>\n",
       "      <th>4310849.0</th>\n",
       "      <td>winter jackets</td>\n",
       "      <td>scarf</td>\n",
       "      <td>1</td>\n",
       "      <td>1</td>\n",
       "    </tr>\n",
       "    <tr>\n",
       "      <th>4080502.0</th>\n",
       "      <td>winter jackets</td>\n",
       "      <td>scarf</td>\n",
       "      <td>1</td>\n",
       "      <td>1</td>\n",
       "    </tr>\n",
       "    <tr>\n",
       "      <th>4335590.0</th>\n",
       "      <td>winter jackets</td>\n",
       "      <td>scarf</td>\n",
       "      <td>1</td>\n",
       "      <td>1</td>\n",
       "    </tr>\n",
       "    <tr>\n",
       "      <th>4258013.0</th>\n",
       "      <td>black knit jumper</td>\n",
       "      <td>black knit jumper</td>\n",
       "      <td>1</td>\n",
       "      <td>1</td>\n",
       "    </tr>\n",
       "    <tr>\n",
       "      <th>4351531.0</th>\n",
       "      <td>black knit jumper</td>\n",
       "      <td>black knit jumper</td>\n",
       "      <td>1</td>\n",
       "      <td>1</td>\n",
       "    </tr>\n",
       "    <tr>\n",
       "      <th>4437638.0</th>\n",
       "      <td>black knit jumper</td>\n",
       "      <td>black knit jumper</td>\n",
       "      <td>1</td>\n",
       "      <td>1</td>\n",
       "    </tr>\n",
       "    <tr>\n",
       "      <th>4217508.0</th>\n",
       "      <td>black knit jumper</td>\n",
       "      <td>black knit jumper</td>\n",
       "      <td>1</td>\n",
       "      <td>1</td>\n",
       "    </tr>\n",
       "    <tr>\n",
       "      <th>4581531.0</th>\n",
       "      <td>women tops</td>\n",
       "      <td>women tops</td>\n",
       "      <td>1</td>\n",
       "      <td>1</td>\n",
       "    </tr>\n",
       "    <tr>\n",
       "      <th>4082954.0</th>\n",
       "      <td>knit</td>\n",
       "      <td>knit</td>\n",
       "      <td>1</td>\n",
       "      <td>1</td>\n",
       "    </tr>\n",
       "    <tr>\n",
       "      <th>...</th>\n",
       "      <td>...</td>\n",
       "      <td>...</td>\n",
       "      <td>...</td>\n",
       "      <td>...</td>\n",
       "    </tr>\n",
       "    <tr>\n",
       "      <th>4866564.0</th>\n",
       "      <td></td>\n",
       "      <td>culotte</td>\n",
       "      <td>1</td>\n",
       "      <td>1</td>\n",
       "    </tr>\n",
       "    <tr>\n",
       "      <th>4795069.0</th>\n",
       "      <td></td>\n",
       "      <td>culotte</td>\n",
       "      <td>1</td>\n",
       "      <td>1</td>\n",
       "    </tr>\n",
       "    <tr>\n",
       "      <th>4714548.0</th>\n",
       "      <td></td>\n",
       "      <td>culotte</td>\n",
       "      <td>1</td>\n",
       "      <td>1</td>\n",
       "    </tr>\n",
       "    <tr>\n",
       "      <th>4795070.0</th>\n",
       "      <td></td>\n",
       "      <td>culotte</td>\n",
       "      <td>1</td>\n",
       "      <td>1</td>\n",
       "    </tr>\n",
       "    <tr>\n",
       "      <th>5218007.0</th>\n",
       "      <td></td>\n",
       "      <td>culotte</td>\n",
       "      <td>1</td>\n",
       "      <td>1</td>\n",
       "    </tr>\n",
       "    <tr>\n",
       "      <th>5213071.0</th>\n",
       "      <td></td>\n",
       "      <td>culotte</td>\n",
       "      <td>1</td>\n",
       "      <td>1</td>\n",
       "    </tr>\n",
       "    <tr>\n",
       "      <th>4765562.0</th>\n",
       "      <td></td>\n",
       "      <td>culotte</td>\n",
       "      <td>1</td>\n",
       "      <td>1</td>\n",
       "    </tr>\n",
       "    <tr>\n",
       "      <th>5272070.0</th>\n",
       "      <td></td>\n",
       "      <td>culotte</td>\n",
       "      <td>1</td>\n",
       "      <td>1</td>\n",
       "    </tr>\n",
       "    <tr>\n",
       "      <th>4920025.0</th>\n",
       "      <td></td>\n",
       "      <td>culotte</td>\n",
       "      <td>1</td>\n",
       "      <td>1</td>\n",
       "    </tr>\n",
       "    <tr>\n",
       "      <th>5479651.0</th>\n",
       "      <td>s</td>\n",
       "      <td>black sweater</td>\n",
       "      <td>1</td>\n",
       "      <td>1</td>\n",
       "    </tr>\n",
       "    <tr>\n",
       "      <th>4955501.0</th>\n",
       "      <td>s</td>\n",
       "      <td>black sweater</td>\n",
       "      <td>1</td>\n",
       "      <td>1</td>\n",
       "    </tr>\n",
       "    <tr>\n",
       "      <th>4607024.0</th>\n",
       "      <td>s</td>\n",
       "      <td>black sweater</td>\n",
       "      <td>1</td>\n",
       "      <td>1</td>\n",
       "    </tr>\n",
       "    <tr>\n",
       "      <th>5321733.0</th>\n",
       "      <td>raffia cross body bag with strawberries detail</td>\n",
       "      <td>raffia</td>\n",
       "      <td>1</td>\n",
       "      <td>1</td>\n",
       "    </tr>\n",
       "    <tr>\n",
       "      <th>5321733.0</th>\n",
       "      <td>raffia cross body bag with strawberries</td>\n",
       "      <td>raffia</td>\n",
       "      <td>1</td>\n",
       "      <td>1</td>\n",
       "    </tr>\n",
       "    <tr>\n",
       "      <th>4760022.0</th>\n",
       "      <td>boys</td>\n",
       "      <td>boys jackets</td>\n",
       "      <td>1</td>\n",
       "      <td>1</td>\n",
       "    </tr>\n",
       "    <tr>\n",
       "      <th>4760022.0</th>\n",
       "      <td>boys  jackets</td>\n",
       "      <td>boys jackets</td>\n",
       "      <td>1</td>\n",
       "      <td>1</td>\n",
       "    </tr>\n",
       "    <tr>\n",
       "      <th>4936529.0</th>\n",
       "      <td>jacquard shows</td>\n",
       "      <td>jacquard shoes</td>\n",
       "      <td>1</td>\n",
       "      <td>1</td>\n",
       "    </tr>\n",
       "    <tr>\n",
       "      <th>4733534.0</th>\n",
       "      <td></td>\n",
       "      <td>deep blue</td>\n",
       "      <td>1</td>\n",
       "      <td>1</td>\n",
       "    </tr>\n",
       "    <tr>\n",
       "      <th>4733535.0</th>\n",
       "      <td></td>\n",
       "      <td>deep blue</td>\n",
       "      <td>1</td>\n",
       "      <td>1</td>\n",
       "    </tr>\n",
       "    <tr>\n",
       "      <th>4733533.0</th>\n",
       "      <td></td>\n",
       "      <td>deep blue</td>\n",
       "      <td>1</td>\n",
       "      <td>1</td>\n",
       "    </tr>\n",
       "    <tr>\n",
       "      <th>5477550.0</th>\n",
       "      <td>with side band</td>\n",
       "      <td></td>\n",
       "      <td>1</td>\n",
       "      <td>1</td>\n",
       "    </tr>\n",
       "    <tr>\n",
       "      <th>4948001.0</th>\n",
       "      <td>neutral jumper</td>\n",
       "      <td>stone jumper</td>\n",
       "      <td>1</td>\n",
       "      <td>1</td>\n",
       "    </tr>\n",
       "    <tr>\n",
       "      <th>5709511.0</th>\n",
       "      <td>oversize jacquard</td>\n",
       "      <td>jacquard</td>\n",
       "      <td>1</td>\n",
       "      <td>1</td>\n",
       "    </tr>\n",
       "    <tr>\n",
       "      <th>5386507.0</th>\n",
       "      <td>oversize jacquard</td>\n",
       "      <td>jacquard</td>\n",
       "      <td>1</td>\n",
       "      <td>1</td>\n",
       "    </tr>\n",
       "    <tr>\n",
       "      <th>4908343.0</th>\n",
       "      <td>cigarette pants</td>\n",
       "      <td>pants</td>\n",
       "      <td>1</td>\n",
       "      <td>1</td>\n",
       "    </tr>\n",
       "    <tr>\n",
       "      <th>4654536.0</th>\n",
       "      <td>infants boy coat</td>\n",
       "      <td>boy coat</td>\n",
       "      <td>1</td>\n",
       "      <td>1</td>\n",
       "    </tr>\n",
       "    <tr>\n",
       "      <th>5461596.0</th>\n",
       "      <td>with fastening</td>\n",
       "      <td>soft reversible</td>\n",
       "      <td>1</td>\n",
       "      <td>1</td>\n",
       "    </tr>\n",
       "    <tr>\n",
       "      <th>5272059.0</th>\n",
       "      <td>low cut blazer</td>\n",
       "      <td>low cut</td>\n",
       "      <td>1</td>\n",
       "      <td>1</td>\n",
       "    </tr>\n",
       "    <tr>\n",
       "      <th>5304051.0</th>\n",
       "      <td>pour  night iv</td>\n",
       "      <td>pour  night</td>\n",
       "      <td>1</td>\n",
       "      <td>1</td>\n",
       "    </tr>\n",
       "    <tr>\n",
       "      <th>5321147.0</th>\n",
       "      <td>pour  night iv</td>\n",
       "      <td>pour  night</td>\n",
       "      <td>1</td>\n",
       "      <td>1</td>\n",
       "    </tr>\n",
       "  </tbody>\n",
       "</table>\n",
       "<p>1522404 rows × 4 columns</p>\n",
       "</div>"
      ],
      "text/plain": [
       "                                                  fsearch  \\\n",
       "pnum                                                        \n",
       "4365001.0                              white slim fit t h   \n",
       "4116043.0                         embroidered dress cream   \n",
       "4471556.0                                       white top   \n",
       "4380532.0                                       white top   \n",
       "4238059.0                                       white top   \n",
       "4434070.0                                       white top   \n",
       "4281106.0                                       white top   \n",
       "4486036.0                                       white top   \n",
       "4371025.0                                                   \n",
       "4565034.0                                                   \n",
       "4514501.0                                                   \n",
       "4412524.0                                     white skirt   \n",
       "4482539.0                                     white tweed   \n",
       "4181510.0                                       men shoes   \n",
       "4181009.0                                       men shoes   \n",
       "4594505.0                 womens white shirts low to high   \n",
       "4523002.0                                           sales   \n",
       "4181515.0                                           sales   \n",
       "4335588.0                                  winter jackets   \n",
       "4212537.0                                  winter jackets   \n",
       "4255552.0                                  winter jackets   \n",
       "4310849.0                                  winter jackets   \n",
       "4080502.0                                  winter jackets   \n",
       "4335590.0                                  winter jackets   \n",
       "4258013.0                               black knit jumper   \n",
       "4351531.0                               black knit jumper   \n",
       "4437638.0                               black knit jumper   \n",
       "4217508.0                               black knit jumper   \n",
       "4581531.0                                      women tops   \n",
       "4082954.0                                            knit   \n",
       "...                                                   ...   \n",
       "4866564.0                                                   \n",
       "4795069.0                                                   \n",
       "4714548.0                                                   \n",
       "4795070.0                                                   \n",
       "5218007.0                                                   \n",
       "5213071.0                                                   \n",
       "4765562.0                                                   \n",
       "5272070.0                                                   \n",
       "4920025.0                                                   \n",
       "5479651.0                                               s   \n",
       "4955501.0                                               s   \n",
       "4607024.0                                               s   \n",
       "5321733.0  raffia cross body bag with strawberries detail   \n",
       "5321733.0         raffia cross body bag with strawberries   \n",
       "4760022.0                                           boys    \n",
       "4760022.0                                   boys  jackets   \n",
       "4936529.0                                  jacquard shows   \n",
       "4733534.0                                                   \n",
       "4733535.0                                                   \n",
       "4733533.0                                                   \n",
       "5477550.0                                  with side band   \n",
       "4948001.0                                  neutral jumper   \n",
       "5709511.0                               oversize jacquard   \n",
       "5386507.0                               oversize jacquard   \n",
       "4908343.0                                 cigarette pants   \n",
       "4654536.0                                infants boy coat   \n",
       "5461596.0                                  with fastening   \n",
       "5272059.0                                  low cut blazer   \n",
       "5304051.0                                  pour  night iv   \n",
       "5321147.0                                  pour  night iv   \n",
       "\n",
       "                          ssearch  user  session  \n",
       "pnum                                              \n",
       "4365001.0  white slim fit t shirt     1        1  \n",
       "4116043.0       embroidered dress     1        1  \n",
       "4471556.0               white top     1        1  \n",
       "4380532.0               white top     1        1  \n",
       "4238059.0               white top     1        1  \n",
       "4434070.0               white top     1        1  \n",
       "4281106.0                   white     1        1  \n",
       "4486036.0                   white     1        1  \n",
       "4371025.0                             1        1  \n",
       "4565034.0                 elastic     1        1  \n",
       "4514501.0                             1        1  \n",
       "4412524.0             white skirt     1        1  \n",
       "4482539.0            white jacket     1        1  \n",
       "4181510.0               men shoes     1        1  \n",
       "4181009.0               men shoes     1        1  \n",
       "4594505.0       womens white tops     1        1  \n",
       "4523002.0                    sale     1        1  \n",
       "4181515.0                    sale     1        1  \n",
       "4335588.0                   scarf     1        1  \n",
       "4212537.0                   scarf     1        1  \n",
       "4255552.0                   scarf     1        1  \n",
       "4310849.0                   scarf     1        1  \n",
       "4080502.0                   scarf     1        1  \n",
       "4335590.0                   scarf     1        1  \n",
       "4258013.0       black knit jumper     1        1  \n",
       "4351531.0       black knit jumper     1        1  \n",
       "4437638.0       black knit jumper     1        1  \n",
       "4217508.0       black knit jumper     1        1  \n",
       "4581531.0              women tops     1        1  \n",
       "4082954.0                    knit     1        1  \n",
       "...                           ...   ...      ...  \n",
       "4866564.0                 culotte     1        1  \n",
       "4795069.0                 culotte     1        1  \n",
       "4714548.0                 culotte     1        1  \n",
       "4795070.0                 culotte     1        1  \n",
       "5218007.0                 culotte     1        1  \n",
       "5213071.0                 culotte     1        1  \n",
       "4765562.0                 culotte     1        1  \n",
       "5272070.0                 culotte     1        1  \n",
       "4920025.0                 culotte     1        1  \n",
       "5479651.0           black sweater     1        1  \n",
       "4955501.0           black sweater     1        1  \n",
       "4607024.0           black sweater     1        1  \n",
       "5321733.0                  raffia     1        1  \n",
       "5321733.0                  raffia     1        1  \n",
       "4760022.0            boys jackets     1        1  \n",
       "4760022.0            boys jackets     1        1  \n",
       "4936529.0          jacquard shoes     1        1  \n",
       "4733534.0               deep blue     1        1  \n",
       "4733535.0               deep blue     1        1  \n",
       "4733533.0               deep blue     1        1  \n",
       "5477550.0                             1        1  \n",
       "4948001.0            stone jumper     1        1  \n",
       "5709511.0                jacquard     1        1  \n",
       "5386507.0                jacquard     1        1  \n",
       "4908343.0                   pants     1        1  \n",
       "4654536.0                boy coat     1        1  \n",
       "5461596.0         soft reversible     1        1  \n",
       "5272059.0                 low cut     1        1  \n",
       "5304051.0             pour  night     1        1  \n",
       "5321147.0             pour  night     1        1  \n",
       "\n",
       "[1522404 rows x 4 columns]"
      ]
     },
     "execution_count": 345,
     "metadata": {},
     "output_type": "execute_result"
    }
   ],
   "source": [
    "zaradf"
   ]
  },
  {
   "cell_type": "code",
   "execution_count": null,
   "metadata": {},
   "outputs": [],
   "source": []
  },
  {
   "cell_type": "code",
   "execution_count": 51,
   "metadata": {},
   "outputs": [],
   "source": [
    "#to study Word2Vec next to FasText"
   ]
  },
  {
   "cell_type": "code",
   "execution_count": 309,
   "metadata": {},
   "outputs": [],
   "source": [
    "zarawords=Word2Vec(sentences=words, size=100, window=5, min_count=5, workers=4, sg=0)\n",
    "zarafast=FastText(sentences=words, size=100, window=5, min_count=5, workers=4, sg=1)"
   ]
  },
  {
   "cell_type": "code",
   "execution_count": 310,
   "metadata": {},
   "outputs": [
    {
     "data": {
      "text/plain": [
       "([('bike', 0.7817842364311218),\n",
       "  ('motorcycle', 0.7305992841720581),\n",
       "  ('motto', 0.6929153203964233),\n",
       "  ('bikers', 0.6560796499252319),\n",
       "  ('motor', 0.6433511972427368),\n",
       "  ('aviator', 0.6152698397636414),\n",
       "  ('rider', 0.5387982726097107),\n",
       "  ('lather', 0.52693772315979),\n",
       "  ('varsity', 0.5259807705879211),\n",
       "  ('combat', 0.5236054062843323)],\n",
       " [('bike', 0.920876145362854),\n",
       "  ('bikers', 0.8872981071472168),\n",
       "  ('biked', 0.8431153893470764),\n",
       "  ('motorbike', 0.839797854423523),\n",
       "  ('hiker', 0.8257838487625122),\n",
       "  ('motor', 0.766144871711731),\n",
       "  ('motorcycle', 0.7541095614433289),\n",
       "  ('bicycle', 0.718234121799469),\n",
       "  ('cycle', 0.6971049308776855),\n",
       "  ('motto', 0.6915452480316162)])"
      ]
     },
     "execution_count": 310,
     "metadata": {},
     "output_type": "execute_result"
    }
   ],
   "source": [
    "zarawords.wv.most_similar('biker'), zarafast.wv.most_similar('biker')"
   ]
  },
  {
   "cell_type": "code",
   "execution_count": 311,
   "metadata": {},
   "outputs": [
    {
     "data": {
      "text/plain": [
       "([('boxy', 0.4496787488460541),\n",
       "  ('chambray', 0.41552549600601196),\n",
       "  ('stripped', 0.4148891568183899),\n",
       "  ('yellow', 0.3966972231864929),\n",
       "  ('peach', 0.3945617377758026),\n",
       "  ('matching', 0.3826368749141693),\n",
       "  ('gray', 0.3715314567089081),\n",
       "  ('ecru', 0.3715214431285858),\n",
       "  ('tank', 0.36761635541915894),\n",
       "  ('tight', 0.36633288860321045)],\n",
       " [('whites', 0.8743630051612854),\n",
       "  ('whit', 0.8119087815284729),\n",
       "  ('whir', 0.7923858761787415),\n",
       "  ('whits', 0.7902526259422302),\n",
       "  ('while', 0.6765116453170776),\n",
       "  ('which', 0.6488273739814758),\n",
       "  ('write', 0.5785507559776306),\n",
       "  ('whale', 0.5768718123435974),\n",
       "  ('verbiage', 0.564439594745636),\n",
       "  ('chambray', 0.558961808681488)])"
      ]
     },
     "execution_count": 311,
     "metadata": {},
     "output_type": "execute_result"
    }
   ],
   "source": [
    "zarawords.wv.most_similar('white'), zarafast.wv.most_similar('white')"
   ]
  },
  {
   "cell_type": "code",
   "execution_count": 314,
   "metadata": {},
   "outputs": [
    {
     "data": {
      "text/plain": [
       "([('jack', 0.844889760017395),\n",
       "  ('jackets', 0.8051950335502625),\n",
       "  ('jacker', 0.7254641652107239),\n",
       "  ('jam', 0.6769561767578125),\n",
       "  ('jacked', 0.6522036790847778),\n",
       "  ('coat', 0.6380160450935364),\n",
       "  ('cost', 0.5992648005485535),\n",
       "  ('hack', 0.5863329768180847),\n",
       "  ('raincoat', 0.5719982385635376),\n",
       "  ('waistcoat', 0.5684931874275208)],\n",
       " [('jacker', 0.8889442682266235),\n",
       "  ('bluejacket', 0.8838722705841064),\n",
       "  ('jackets', 0.879869282245636),\n",
       "  ('jack', 0.8508911728858948),\n",
       "  ('jacked', 0.8438003063201904),\n",
       "  ('bluejackets', 0.8062644600868225),\n",
       "  ('jam', 0.7781660556793213),\n",
       "  ('jacks', 0.7741544246673584),\n",
       "  ('jaw', 0.7060266137123108),\n",
       "  ('jay', 0.6959696412086487)])"
      ]
     },
     "execution_count": 314,
     "metadata": {},
     "output_type": "execute_result"
    }
   ],
   "source": [
    "zarawords.wv.most_similar('jacket'), zarafast.wv.most_similar('jacket')"
   ]
  },
  {
   "cell_type": "code",
   "execution_count": 339,
   "metadata": {},
   "outputs": [
    {
     "data": {
      "text/plain": [
       "[('skit', 0.668889045715332),\n",
       " ('skirt', 0.6020647883415222),\n",
       " ('pinafore', 0.6012712717056274),\n",
       " ('minidress', 0.5905269980430603),\n",
       " ('heritage', 0.5763916969299316),\n",
       " ('jam', 0.5647459626197815),\n",
       " ('culottes', 0.54798823595047),\n",
       " ('troy', 0.5174814462661743),\n",
       " ('intense', 0.5140084028244019),\n",
       " ('tun', 0.5131599307060242)]"
      ]
     },
     "execution_count": 339,
     "metadata": {},
     "output_type": "execute_result"
    }
   ],
   "source": [
    "zaraword.wv.most_similar('miniskirt')"
   ]
  },
  {
   "cell_type": "code",
   "execution_count": 334,
   "metadata": {},
   "outputs": [
    {
     "data": {
      "text/plain": [
       "[('decked', 0.9077830910682678),\n",
       " ('fleck', 0.836915135383606),\n",
       " ('necked', 0.8087685704231262),\n",
       " ('tucked', 0.7844251394271851),\n",
       " ('fled', 0.7737396359443665),\n",
       " ('hacked', 0.7708016037940979),\n",
       " ('lacked', 0.7688000798225403),\n",
       " ('weaved', 0.7641327977180481),\n",
       " ('pinned', 0.7508844137191772),\n",
       " ('locked', 0.749739408493042)]"
      ]
     },
     "execution_count": 334,
     "metadata": {},
     "output_type": "execute_result"
    }
   ],
   "source": [
    "zarafast.wv.most_similar('flecked')"
   ]
  },
  {
   "cell_type": "code",
   "execution_count": null,
   "metadata": {},
   "outputs": [],
   "source": []
  },
  {
   "cell_type": "code",
   "execution_count": null,
   "metadata": {},
   "outputs": [],
   "source": []
  },
  {
   "cell_type": "code",
   "execution_count": null,
   "metadata": {},
   "outputs": [],
   "source": []
  },
  {
   "cell_type": "code",
   "execution_count": null,
   "metadata": {},
   "outputs": [],
   "source": []
  },
  {
   "cell_type": "code",
   "execution_count": null,
   "metadata": {},
   "outputs": [],
   "source": []
  },
  {
   "cell_type": "code",
   "execution_count": null,
   "metadata": {},
   "outputs": [],
   "source": []
  },
  {
   "cell_type": "code",
   "execution_count": null,
   "metadata": {},
   "outputs": [],
   "source": []
  },
  {
   "cell_type": "code",
   "execution_count": null,
   "metadata": {},
   "outputs": [],
   "source": []
  },
  {
   "cell_type": "code",
   "execution_count": null,
   "metadata": {},
   "outputs": [],
   "source": []
  },
  {
   "cell_type": "code",
   "execution_count": null,
   "metadata": {},
   "outputs": [],
   "source": []
  },
  {
   "cell_type": "code",
   "execution_count": null,
   "metadata": {},
   "outputs": [],
   "source": []
  }
 ],
 "metadata": {
  "kernelspec": {
   "display_name": "Python 3",
   "language": "python",
   "name": "python3"
  },
  "language_info": {
   "codemirror_mode": {
    "name": "ipython",
    "version": 3
   },
   "file_extension": ".py",
   "mimetype": "text/x-python",
   "name": "python",
   "nbconvert_exporter": "python",
   "pygments_lexer": "ipython3",
   "version": "3.6.3"
  }
 },
 "nbformat": 4,
 "nbformat_minor": 2
}
